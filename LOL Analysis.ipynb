{
 "cells": [
  {
   "cell_type": "markdown",
   "id": "99f01373",
   "metadata": {},
   "source": [
    "# League of Legends Ranked Game 2020 Analysis\n",
    "\n",
    "In this homework, I am going to analyze the data from the of the most popular PC game: League of Legends. Specifically, I would look in detail what objectives (tower, inhibitor, baron, dragon, etc.) maximize a team's winning chance. The data consists of high ELO ranked matches from the Korean server, which is well known for competitive gaming. The ultimate goal of this analysis is to gain a deep insight into the game and offer strategic suggestions for future gameplays."
   ]
  },
  {
   "cell_type": "markdown",
   "id": "573ee0cd",
   "metadata": {},
   "source": [
    "Feature explanation:\n",
    "1. teamId: which side a team takes. 100 for blue side, and 200 for red side.\n",
    "2. win: whether a team wins or not.\n",
    "3. firstBlood: whether a team claims first blood.\n",
    "4. firstTower: whether a team takes down the first tower.\n",
    "5. firstInhibitor: whether a team takes down the first inhibitor.\n",
    "6. firstBaron: whether a team slays the first Baron.\n",
    "7. firstDragon: whether a team slays the first dragon.\n",
    "8. firstRiftHerald: whether a team slays the first rift herald.\n",
    "9. towerKills: the total number of towers claimed.\n",
    "10. inhibitorKills: the total number of inhibitors claimed.\n",
    "11. baronKills: the total number of Barons slain.\n",
    "12. dragonKills: the total number of dragons slain.\n",
    "13. vilemawKills: the total number of Vilemaws slain, not applicable in a 5v5 ranked match.\n",
    "14. riftHeraldKills: the total number of rift heralds slain.\n",
    "15. dominionVictoryScore: Score received after a match. not applicable in a 5v5 ranked match.\n",
    "16. bans: the champion ban/pick status. Not the focus in our study of objectives.\n",
    "17. gameId: Id of the match."
   ]
  },
  {
   "cell_type": "code",
   "execution_count": 273,
   "id": "e861e4c7",
   "metadata": {},
   "outputs": [],
   "source": [
    "import numpy as np\n",
    "import pandas as pd\n",
    "import matplotlib.pyplot as plt\n",
    "\n",
    "from sklearn.utils import shuffle\n",
    "from sklearn.cluster import SpectralClustering, KMeans, AgglomerativeClustering\n",
    "from sklearn.ensemble import RandomForestClassifier, GradientBoostingClassifier\n",
    "from sklearn.linear_model import LogisticRegression\n",
    "from sklearn.svm import LinearSVC, SVC\n",
    "from sklearn.decomposition import PCA\n",
    "from sklearn.model_selection import GridSearchCV, train_test_split\n",
    "from sklearn.preprocessing import StandardScaler\n",
    "from sklearn.metrics import rand_score, confusion_matrix, accuracy_score, ConfusionMatrixDisplay"
   ]
  },
  {
   "cell_type": "markdown",
   "id": "f6e9e380",
   "metadata": {},
   "source": [
    "Considering the large data size (over 200,000), we train our models using a subset of data. We randomly select 10,000 samples from the winner set and 10,000 samples from the loser set, then merging them together."
   ]
  },
  {
   "cell_type": "code",
   "execution_count": 12,
   "id": "661e64d8",
   "metadata": {},
   "outputs": [],
   "source": [
    "winner = pd.read_csv('archive/match_winner_data_version1.csv').dropna().sample(10000)\n",
    "loser = pd.read_csv('archive/match_loser_data_version1.csv').dropna().sample(10000)"
   ]
  },
  {
   "cell_type": "code",
   "execution_count": 13,
   "id": "e6a832e4",
   "metadata": {},
   "outputs": [],
   "source": [
    "# Merge and shuffle data\n",
    "data = winner.append(loser)\n",
    "data = shuffle(data)\n",
    "data.reset_index(inplace=True, drop=True)"
   ]
  },
  {
   "cell_type": "code",
   "execution_count": 14,
   "id": "48ec7c68",
   "metadata": {},
   "outputs": [],
   "source": [
    "# Drop unnecessary columns\n",
    "cleaned = data.drop(['teamId', 'Unnamed: 0', 'vilemawKills', 'dominionVictoryScore', 'bans', 'gameId'], axis=1)\n",
    "y = cleaned['win'].replace('Win', 1).replace('Fail', 0).astype('int64')\n",
    "X = cleaned.drop('win', axis=1)"
   ]
  },
  {
   "cell_type": "markdown",
   "id": "bbdeef6e",
   "metadata": {},
   "source": [
    "# Insight: unsupervised clustering\n",
    "We first utilize clustering to verify there are indeed noticeable differences between winning and losing team stats. We first perform PCA for the ease of visualization, and then utilize K-means to find the corresponding cluters."
   ]
  },
  {
   "cell_type": "code",
   "execution_count": 195,
   "id": "5a432437",
   "metadata": {},
   "outputs": [
    {
     "data": {
      "text/html": [
       "<style>#sk-container-id-22 {color: black;background-color: white;}#sk-container-id-22 pre{padding: 0;}#sk-container-id-22 div.sk-toggleable {background-color: white;}#sk-container-id-22 label.sk-toggleable__label {cursor: pointer;display: block;width: 100%;margin-bottom: 0;padding: 0.3em;box-sizing: border-box;text-align: center;}#sk-container-id-22 label.sk-toggleable__label-arrow:before {content: \"▸\";float: left;margin-right: 0.25em;color: #696969;}#sk-container-id-22 label.sk-toggleable__label-arrow:hover:before {color: black;}#sk-container-id-22 div.sk-estimator:hover label.sk-toggleable__label-arrow:before {color: black;}#sk-container-id-22 div.sk-toggleable__content {max-height: 0;max-width: 0;overflow: hidden;text-align: left;background-color: #f0f8ff;}#sk-container-id-22 div.sk-toggleable__content pre {margin: 0.2em;color: black;border-radius: 0.25em;background-color: #f0f8ff;}#sk-container-id-22 input.sk-toggleable__control:checked~div.sk-toggleable__content {max-height: 200px;max-width: 100%;overflow: auto;}#sk-container-id-22 input.sk-toggleable__control:checked~label.sk-toggleable__label-arrow:before {content: \"▾\";}#sk-container-id-22 div.sk-estimator input.sk-toggleable__control:checked~label.sk-toggleable__label {background-color: #d4ebff;}#sk-container-id-22 div.sk-label input.sk-toggleable__control:checked~label.sk-toggleable__label {background-color: #d4ebff;}#sk-container-id-22 input.sk-hidden--visually {border: 0;clip: rect(1px 1px 1px 1px);clip: rect(1px, 1px, 1px, 1px);height: 1px;margin: -1px;overflow: hidden;padding: 0;position: absolute;width: 1px;}#sk-container-id-22 div.sk-estimator {font-family: monospace;background-color: #f0f8ff;border: 1px dotted black;border-radius: 0.25em;box-sizing: border-box;margin-bottom: 0.5em;}#sk-container-id-22 div.sk-estimator:hover {background-color: #d4ebff;}#sk-container-id-22 div.sk-parallel-item::after {content: \"\";width: 100%;border-bottom: 1px solid gray;flex-grow: 1;}#sk-container-id-22 div.sk-label:hover label.sk-toggleable__label {background-color: #d4ebff;}#sk-container-id-22 div.sk-serial::before {content: \"\";position: absolute;border-left: 1px solid gray;box-sizing: border-box;top: 0;bottom: 0;left: 50%;z-index: 0;}#sk-container-id-22 div.sk-serial {display: flex;flex-direction: column;align-items: center;background-color: white;padding-right: 0.2em;padding-left: 0.2em;position: relative;}#sk-container-id-22 div.sk-item {position: relative;z-index: 1;}#sk-container-id-22 div.sk-parallel {display: flex;align-items: stretch;justify-content: center;background-color: white;position: relative;}#sk-container-id-22 div.sk-item::before, #sk-container-id-22 div.sk-parallel-item::before {content: \"\";position: absolute;border-left: 1px solid gray;box-sizing: border-box;top: 0;bottom: 0;left: 50%;z-index: -1;}#sk-container-id-22 div.sk-parallel-item {display: flex;flex-direction: column;z-index: 1;position: relative;background-color: white;}#sk-container-id-22 div.sk-parallel-item:first-child::after {align-self: flex-end;width: 50%;}#sk-container-id-22 div.sk-parallel-item:last-child::after {align-self: flex-start;width: 50%;}#sk-container-id-22 div.sk-parallel-item:only-child::after {width: 0;}#sk-container-id-22 div.sk-dashed-wrapped {border: 1px dashed gray;margin: 0 0.4em 0.5em 0.4em;box-sizing: border-box;padding-bottom: 0.4em;background-color: white;}#sk-container-id-22 div.sk-label label {font-family: monospace;font-weight: bold;display: inline-block;line-height: 1.2em;}#sk-container-id-22 div.sk-label-container {text-align: center;}#sk-container-id-22 div.sk-container {/* jupyter's `normalize.less` sets `[hidden] { display: none; }` but bootstrap.min.css set `[hidden] { display: none !important; }` so we also need the `!important` here to be able to override the default hidden behavior on the sphinx rendered scikit-learn.org. See: https://github.com/scikit-learn/scikit-learn/issues/21755 */display: inline-block !important;position: relative;}#sk-container-id-22 div.sk-text-repr-fallback {display: none;}</style><div id=\"sk-container-id-22\" class=\"sk-top-container\"><div class=\"sk-text-repr-fallback\"><pre>KMeans(n_clusters=2)</pre><b>In a Jupyter environment, please rerun this cell to show the HTML representation or trust the notebook. <br />On GitHub, the HTML representation is unable to render, please try loading this page with nbviewer.org.</b></div><div class=\"sk-container\" hidden><div class=\"sk-item\"><div class=\"sk-estimator sk-toggleable\"><input class=\"sk-toggleable__control sk-hidden--visually\" id=\"sk-estimator-id-26\" type=\"checkbox\" checked><label for=\"sk-estimator-id-26\" class=\"sk-toggleable__label sk-toggleable__label-arrow\">KMeans</label><div class=\"sk-toggleable__content\"><pre>KMeans(n_clusters=2)</pre></div></div></div></div></div>"
      ],
      "text/plain": [
       "KMeans(n_clusters=2)"
      ]
     },
     "execution_count": 195,
     "metadata": {},
     "output_type": "execute_result"
    }
   ],
   "source": [
    "# PCA for visualization\n",
    "\n",
    "pca = PCA(3)\n",
    "X_unsupervised = pca.fit_transform(X)\n",
    "mod_k = KMeans(n_clusters=2)\n",
    "mod_k.fit(X_unsupervised)"
   ]
  },
  {
   "cell_type": "code",
   "execution_count": 236,
   "id": "bc5733e9",
   "metadata": {},
   "outputs": [
    {
     "data": {
      "text/plain": [
       "0.6834204160208011"
      ]
     },
     "execution_count": 236,
     "metadata": {},
     "output_type": "execute_result"
    }
   ],
   "source": [
    "rand_score(y, mod_k.labels_)"
   ]
  },
  {
   "cell_type": "code",
   "execution_count": 232,
   "id": "7a647949",
   "metadata": {},
   "outputs": [
    {
     "data": {
      "image/png": "[encoded data removed]",
      "text/plain": [
       "<Figure size 432x288 with 3 Axes>"
      ]
     },
     "metadata": {
      "needs_background": "light"
     },
     "output_type": "display_data"
    }
   ],
   "source": [
    "ax1 = plt.subplot(2,2,1)\n",
    "ax2 = plt.subplot(2,2,2)\n",
    "ax3 = plt.subplot(2,2,3)\n",
    "\n",
    "for i in [0,1]:\n",
    "    ax1.scatter(X_unsupervised[mod_k.labels_==i, 0], X_unsupervised[mod_k.labels_==i, 1], label=i)\n",
    "    ax2.scatter(X_unsupervised[mod_k.labels_==i, 0], X_unsupervised[mod_k.labels_==i, 2], label=i)\n",
    "    ax3.scatter(X_unsupervised[mod_k.labels_==i, 1], X_unsupervised[mod_k.labels_==i, 2], label=i)\n",
    "    \n",
    "ax1.set_title('PC1 vs. PC2')\n",
    "ax2.set_title('PC1 vs. PC3')\n",
    "ax3.set_title('PC2 vs. PC3')\n",
    "plt.show()"
   ]
  },
  {
   "cell_type": "markdown",
   "id": "ec837b4a",
   "metadata": {},
   "source": [
    "The K means model achieves a satisfying rand score of almost 0.70. In addition, the scatter plot of PCA also reveals a linear separate plane between variables. Only the Principle Compoent 2 and 3 overlap, but it is expected for the matches where neither team gains an advantage until the end during a match."
   ]
  },
  {
   "cell_type": "markdown",
   "id": "c1c01cd3",
   "metadata": {},
   "source": [
    "# Model Comparison\n",
    "Next, we employ several classification models, train them separately, and compare their performances. Specifically, we make use of Random Forest and Gradient Boosting from the ensemble family, regularized logistic regression, and SVM. All of them have proven to be useful in classification problems. We choose not to perform PCA in order for interpretation. During the training process, we utilize several best practices, including K-fold classification and hyperparamtertuning, to ensure maximum performance of our models."
   ]
  },
  {
   "cell_type": "markdown",
   "id": "69421acf",
   "metadata": {},
   "source": [
    "### Preprocessing"
   ]
  },
  {
   "cell_type": "code",
   "execution_count": 97,
   "id": "758bc5af",
   "metadata": {},
   "outputs": [],
   "source": [
    "X_train, X_test, y_train, y_test = train_test_split(X, y, test_size=0.2, random_state=100)\n",
    "\n",
    "scaler = StandardScaler()\n",
    "# Scale only continuous features\n",
    "X_train[['towerKills', 'inhibitorKills', 'baronKills', 'dragonKills', 'riftHeraldKills']] = scaler.fit_transform(X_train[['towerKills', 'inhibitorKills', 'baronKills', 'dragonKills', 'riftHeraldKills']])\n",
    "X_test[['towerKills', 'inhibitorKills', 'baronKills', 'dragonKills', 'riftHeraldKills']] = scaler.transform(X_test[['towerKills', 'inhibitorKills', 'baronKills', 'dragonKills', 'riftHeraldKills']])"
   ]
  },
  {
   "cell_type": "code",
   "execution_count": 240,
   "id": "cf0816b0",
   "metadata": {},
   "outputs": [],
   "source": [
    "accs = []"
   ]
  },
  {
   "cell_type": "markdown",
   "id": "b2acb3cd",
   "metadata": {},
   "source": [
    "### Ensemble Structures"
   ]
  },
  {
   "cell_type": "code",
   "execution_count": 238,
   "id": "44bb8fd7",
   "metadata": {},
   "outputs": [
    {
     "name": "stdout",
     "output_type": "stream",
     "text": [
      "Fitting 3 folds for each of 60 candidates, totalling 180 fits\n"
     ]
    },
    {
     "data": {
      "text/plain": [
       "{'max_depth': 9, 'max_features': 4}"
      ]
     },
     "execution_count": 238,
     "metadata": {},
     "output_type": "execute_result"
    }
   ],
   "source": [
    "# Random Forest\n",
    "\n",
    "rf = GridSearchCV(estimator=RandomForestClassifier(max_features=\"sqrt\"),\n",
    "                 param_grid={'max_depth': range(1,21,2), 'max_features': range(1, 7)}, cv=3, verbose=1)\n",
    "rf.fit(X_train, y_train)\n",
    "rf.best_params_"
   ]
  },
  {
   "cell_type": "code",
   "execution_count": 241,
   "id": "f9063387",
   "metadata": {},
   "outputs": [],
   "source": [
    "rf_acc = accuracy_score(y_test, rf.predict(X_test))\n",
    "accs.append(rf_acc)"
   ]
  },
  {
   "cell_type": "code",
   "execution_count": 281,
   "id": "1b3b77e3",
   "metadata": {},
   "outputs": [
    {
     "data": {
      "image/png": "[encoded data removed]",
      "text/plain": [
       "<Figure size 432x288 with 2 Axes>"
      ]
     },
     "metadata": {
      "needs_background": "light"
     },
     "output_type": "display_data"
    }
   ],
   "source": [
    "ax = ConfusionMatrixDisplay(confusion_matrix(y_test, rf.predict(X_test), normalize='true'), display_labels=['Lose','Win'])\n",
    "ax.plot()\n",
    "plt.title('Confusion Matrix for Random Forest')\n",
    "plt.show()"
   ]
  },
  {
   "cell_type": "code",
   "execution_count": 269,
   "id": "412f38f7",
   "metadata": {},
   "outputs": [
    {
     "name": "stdout",
     "output_type": "stream",
     "text": [
      "Important features identified by Random Forest:\n"
     ]
    },
    {
     "data": {
      "text/plain": [
       "Index(['towerKills', 'inhibitorKills', 'firstInhibitor', 'firstTower',\n",
       "       'dragonKills'],\n",
       "      dtype='object')"
      ]
     },
     "execution_count": 269,
     "metadata": {},
     "output_type": "execute_result"
    }
   ],
   "source": [
    "impts_rf = rf.best_estimator_.feature_importances_\n",
    "print(\"Important features identified by Random Forest:\")\n",
    "X_train.columns[np.argsort(-1*impts_rf)[:5]]"
   ]
  },
  {
   "cell_type": "code",
   "execution_count": 142,
   "id": "192e0e66",
   "metadata": {},
   "outputs": [
    {
     "name": "stdout",
     "output_type": "stream",
     "text": [
      "Fitting 3 folds for each of 40 candidates, totalling 120 fits\n"
     ]
    },
    {
     "data": {
      "text/plain": [
       "{'learning_rate': 0.1, 'max_depth': 5}"
      ]
     },
     "execution_count": 142,
     "metadata": {},
     "output_type": "execute_result"
    }
   ],
   "source": [
    "# Gradient Boosting\n",
    "\n",
    "gb = GridSearchCV(estimator=GradientBoostingClassifier(),\n",
    "                 param_grid={'learning_rate': np.linspace(0.1,2.0,10), 'max_depth': range(3,11,2)}, cv=3, verbose=1)\n",
    "gb.fit(X_train, y_train)\n",
    "gb.best_params_"
   ]
  },
  {
   "cell_type": "code",
   "execution_count": 242,
   "id": "6eb37166",
   "metadata": {},
   "outputs": [],
   "source": [
    "gb_acc = accuracy_score(y_test, gb.predict(X_test))\n",
    "accs.append(gb_acc)"
   ]
  },
  {
   "cell_type": "code",
   "execution_count": 282,
   "id": "e924ec8b",
   "metadata": {},
   "outputs": [
    {
     "data": {
      "image/png": "[encoded data removed]",
      "text/plain": [
       "<Figure size 432x288 with 2 Axes>"
      ]
     },
     "metadata": {
      "needs_background": "light"
     },
     "output_type": "display_data"
    }
   ],
   "source": [
    "ax = ConfusionMatrixDisplay(confusion_matrix(y_test, gb.predict(X_test), normalize='true'), display_labels=['Lose','Win'])\n",
    "ax.plot()\n",
    "plt.title('Confusion Matrix for Random Forest')\n",
    "plt.show()"
   ]
  },
  {
   "cell_type": "code",
   "execution_count": 268,
   "id": "4b80520f",
   "metadata": {},
   "outputs": [
    {
     "name": "stdout",
     "output_type": "stream",
     "text": [
      "Important features identified by Gradient Boosting:\n"
     ]
    },
    {
     "data": {
      "text/plain": [
       "Index(['towerKills', 'inhibitorKills', 'firstTower', 'dragonKills',\n",
       "       'firstDragon'],\n",
       "      dtype='object')"
      ]
     },
     "execution_count": 268,
     "metadata": {},
     "output_type": "execute_result"
    }
   ],
   "source": [
    "impts_gb = gb.best_estimator_.feature_importances_\n",
    "print(\"Important features identified by Gradient Boosting:\")\n",
    "X_train.columns[np.argsort(-1*impts_gb)[:5]]"
   ]
  },
  {
   "cell_type": "markdown",
   "id": "c1aad4e8",
   "metadata": {},
   "source": [
    "### Logistic Regression"
   ]
  },
  {
   "cell_type": "code",
   "execution_count": 149,
   "id": "55be6bf4",
   "metadata": {},
   "outputs": [
    {
     "name": "stdout",
     "output_type": "stream",
     "text": [
      "Fitting 3 folds for each of 5 candidates, totalling 15 fits\n"
     ]
    },
    {
     "data": {
      "text/plain": [
       "{'C': 0.1}"
      ]
     },
     "execution_count": 149,
     "metadata": {},
     "output_type": "execute_result"
    }
   ],
   "source": [
    "log_r = GridSearchCV(estimator=LogisticRegression(penalty='l2', random_state=100),\n",
    "                    param_grid={'C': [0.0001,0.001,0.01,0.1,1]}, cv=3, verbose=1)\n",
    "log_r.fit(X_train, y_train)\n",
    "log_r.best_params_"
   ]
  },
  {
   "cell_type": "code",
   "execution_count": 243,
   "id": "e8b028ed",
   "metadata": {},
   "outputs": [],
   "source": [
    "log_r_acc = accuracy_score(y_test, log_r.predict(X_test))\n",
    "accs.append(log_r_acc)"
   ]
  },
  {
   "cell_type": "code",
   "execution_count": 283,
   "id": "a1547e39",
   "metadata": {},
   "outputs": [
    {
     "data": {
      "image/png": "[encoded data removed]",
      "text/plain": [
       "<Figure size 432x288 with 2 Axes>"
      ]
     },
     "metadata": {
      "needs_background": "light"
     },
     "output_type": "display_data"
    }
   ],
   "source": [
    "ax = ConfusionMatrixDisplay(confusion_matrix(y_test, log_r.predict(X_test), normalize='true'), display_labels=['Lose','Win'])\n",
    "ax.plot()\n",
    "plt.title('Confusion Matrix for Random Forest')\n",
    "plt.show()"
   ]
  },
  {
   "cell_type": "code",
   "execution_count": 266,
   "id": "3eb54754",
   "metadata": {},
   "outputs": [
    {
     "name": "stdout",
     "output_type": "stream",
     "text": [
      "Important features identified by Logistic Regression:\n"
     ]
    },
    {
     "data": {
      "text/plain": [
       "Index(['towerKills', 'firstTower', 'firstInhibitor', 'firstBaron',\n",
       "       'firstDragon'],\n",
       "      dtype='object')"
      ]
     },
     "execution_count": 266,
     "metadata": {},
     "output_type": "execute_result"
    }
   ],
   "source": [
    "impts_logr = log_r.best_estimator_.coef_[0]\n",
    "print(\"Important features identified by Logistic Regression:\")\n",
    "X_train.columns[np.argsort(-1*impts_logr)[:5]]"
   ]
  },
  {
   "cell_type": "markdown",
   "id": "b2221f24",
   "metadata": {},
   "source": [
    "### SVM"
   ]
  },
  {
   "cell_type": "code",
   "execution_count": 187,
   "id": "3cf36ba3",
   "metadata": {},
   "outputs": [
    {
     "name": "stdout",
     "output_type": "stream",
     "text": [
      "Fitting 3 folds for each of 4 candidates, totalling 12 fits\n"
     ]
    },
    {
     "name": "stderr",
     "output_type": "stream",
     "text": [
      "C:\\Users\\autum\\anaconda3\\lib\\site-packages\\sklearn\\svm\\_base.py:1225: ConvergenceWarning: Liblinear failed to converge, increase the number of iterations.\n",
      "  warnings.warn(\n",
      "C:\\Users\\autum\\anaconda3\\lib\\site-packages\\sklearn\\svm\\_base.py:1225: ConvergenceWarning: Liblinear failed to converge, increase the number of iterations.\n",
      "  warnings.warn(\n",
      "C:\\Users\\autum\\anaconda3\\lib\\site-packages\\sklearn\\svm\\_base.py:1225: ConvergenceWarning: Liblinear failed to converge, increase the number of iterations.\n",
      "  warnings.warn(\n",
      "C:\\Users\\autum\\anaconda3\\lib\\site-packages\\sklearn\\svm\\_base.py:1225: ConvergenceWarning: Liblinear failed to converge, increase the number of iterations.\n",
      "  warnings.warn(\n",
      "C:\\Users\\autum\\anaconda3\\lib\\site-packages\\sklearn\\svm\\_base.py:1225: ConvergenceWarning: Liblinear failed to converge, increase the number of iterations.\n",
      "  warnings.warn(\n",
      "C:\\Users\\autum\\anaconda3\\lib\\site-packages\\sklearn\\svm\\_base.py:1225: ConvergenceWarning: Liblinear failed to converge, increase the number of iterations.\n",
      "  warnings.warn(\n",
      "C:\\Users\\autum\\anaconda3\\lib\\site-packages\\sklearn\\svm\\_base.py:1225: ConvergenceWarning: Liblinear failed to converge, increase the number of iterations.\n",
      "  warnings.warn(\n"
     ]
    },
    {
     "data": {
      "text/plain": [
       "{'C': 10}"
      ]
     },
     "execution_count": 187,
     "metadata": {},
     "output_type": "execute_result"
    }
   ],
   "source": [
    "lrsvm = GridSearchCV(estimator=LinearSVC(random_state=100),\n",
    "                    param_grid={'C': [0.01,0.1,10,100]}, cv=3, verbose=1)\n",
    "lrsvm.fit(X_train, y_train)\n",
    "lrsvm.best_params_"
   ]
  },
  {
   "cell_type": "code",
   "execution_count": 244,
   "id": "89cecf60",
   "metadata": {},
   "outputs": [],
   "source": [
    "svm_acc = accuracy_score(y_test, lrsvm.predict(X_test))\n",
    "accs.append(svm_acc)"
   ]
  },
  {
   "cell_type": "code",
   "execution_count": 284,
   "id": "3a211c59",
   "metadata": {},
   "outputs": [
    {
     "data": {
      "image/png": "[encoded data removed]",
      "text/plain": [
       "<Figure size 432x288 with 2 Axes>"
      ]
     },
     "metadata": {
      "needs_background": "light"
     },
     "output_type": "display_data"
    }
   ],
   "source": [
    "ax = ConfusionMatrixDisplay(confusion_matrix(y_test, lrsvm.predict(X_test), normalize='true'), display_labels=['Lose','Win'])\n",
    "ax.plot()\n",
    "plt.title('Confusion Matrix for Random Forest')\n",
    "plt.show()"
   ]
  },
  {
   "cell_type": "code",
   "execution_count": 267,
   "id": "ed170407",
   "metadata": {},
   "outputs": [
    {
     "name": "stdout",
     "output_type": "stream",
     "text": [
      "Important features identified by SVM:\n"
     ]
    },
    {
     "data": {
      "text/plain": [
       "Index(['towerKills', 'firstInhibitor', 'firstTower', 'firstBaron',\n",
       "       'firstDragon'],\n",
       "      dtype='object')"
      ]
     },
     "execution_count": 267,
     "metadata": {},
     "output_type": "execute_result"
    }
   ],
   "source": [
    "impts_svm = lrsvm.best_estimator_.coef_[0]\n",
    "print(\"Important features identified by SVM:\")\n",
    "X_train.columns[np.argsort(-1*impts_svm)[:5]]"
   ]
  },
  {
   "cell_type": "markdown",
   "id": "ae7246f0",
   "metadata": {},
   "source": [
    "### Test Accuracy Comparison"
   ]
  },
  {
   "cell_type": "code",
   "execution_count": 255,
   "id": "fdc36457",
   "metadata": {},
   "outputs": [
    {
     "data": {
      "image/png": "[encoded data removed]",
      "text/plain": [
       "<Figure size 432x288 with 1 Axes>"
      ]
     },
     "metadata": {
      "needs_background": "light"
     },
     "output_type": "display_data"
    }
   ],
   "source": [
    "plt.bar(height=accs, x=['Random \\nForest', 'Gradient \\nBoosting', 'Logistic \\nRegression', 'SVM'])\n",
    "plt.ylim([0.6,0.9])\n",
    "plt.title('Test Accuracy across Different Models')\n",
    "plt.show()"
   ]
  },
  {
   "cell_type": "markdown",
   "id": "d3478c5f",
   "metadata": {},
   "source": [
    "# Interpretation\n",
    "All models achieve a test accuracy over 85%. Among them, Ensemble models generally outperform other models, since ensembles are good at taking care of categorical data (Ex. \"firstTower\"), while other models like Logistic Regression actually suffer from categorical data. According to the confusion matrix, we can discover further that both ensembles predict the winning and losing teams accurately, with 86% accuracy for predicting losing teams and 88% accuracy for predicting winning teams. For Logistic Regression and SVM, however, despite a pretty good accuracy for predicting losing teams, they fail to correctly predict winning teams.     \n",
    "\n",
    "This weird case can be explained by looking into the top features selected by each model. Three factors, 'towerKills', 'firstTower', and 'firstInhibitor', are present in all models. This is expected, since towers and inhibitors are the most important objectives in League of Legends. With fewer tower, your team gains less vision, and thus is more vulnerable to enemy attacks. On the other hand, the rest of the top features display a different pattern. Both ensemble models choose features relevant to dragons, but the other two models include a feature related to Baron. In League of Legends, dragons are late-game neutral objectives while Barons are early-mid game objectives. In 2020, the patches lowered the weight of early-game advantages, effectively reducing the importance of Baron, especially the first Baron acquired. For Logistic Regression and SVM, they both incorrectly put too much weight on Baron, which leads to their a-bit-worse performance in predicting winning teams compared to ensembles. This also proves the correctness of ensembles in predicting a team's winning chance.\n",
    "                                                 \n",
    "In conclusion, ensembles do a better job in predicting whether a team wins in a League of Legends match."
   ]
  }
 ],
 "metadata": {
  "kernelspec": {
   "display_name": "Python 3 (ipykernel)",
   "language": "python",
   "name": "python3"
  },
  "language_info": {
   "codemirror_mode": {
    "name": "ipython",
    "version": 3
   },
   "file_extension": ".py",
   "mimetype": "text/x-python",
   "name": "python",
   "nbconvert_exporter": "python",
   "pygments_lexer": "ipython3",
   "version": "3.9.7"
  }
 },
 "nbformat": 4,
 "nbformat_minor": 5
}
